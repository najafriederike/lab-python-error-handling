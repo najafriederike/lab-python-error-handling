{
 "cells": [
  {
   "cell_type": "markdown",
   "id": "25d7736c-ba17-4aff-b6bb-66eba20fbf4e",
   "metadata": {},
   "source": [
    "# Lab | Error Handling"
   ]
  },
  {
   "cell_type": "markdown",
   "id": "bc99b386-7508-47a0-bcdb-d969deaf6c8b",
   "metadata": {},
   "source": [
    "## Exercise: Error Handling for Managing Customer Orders\n",
    "\n",
    "The implementation of your code for managing customer orders assumes that the user will always enter a valid input. \n",
    "\n",
    "For example, we could modify the `initialize_inventory` function to include error handling.\n",
    "   - If the user enters an invalid quantity (e.g., a negative value or a non-numeric value), display an error message and ask them to re-enter the quantity for that product.\n",
    "   - Use a try-except block to handle the error and continue prompting the user until a valid quantity is entered.\n",
    "\n",
    "```python\n",
    "# Step 1: Define the function for initializing the inventory with error handling\n",
    "def initialize_inventory(products):\n",
    "    inventory = {}\n",
    "    for product in products:\n",
    "        valid_quantity = False\n",
    "        while not valid_quantity:\n",
    "            try:\n",
    "                quantity = int(input(f\"Enter the quantity of {product}s available: \"))\n",
    "                if quantity < 0:\n",
    "                    raise ValueError(\"Invalid quantity! Please enter a non-negative value.\")\n",
    "                valid_quantity = True\n",
    "            except ValueError as error:\n",
    "                print(f\"Error: {error}\")\n",
    "        inventory[product] = quantity\n",
    "    return inventory\n",
    "\n",
    "# Or, in another way:\n",
    "\n",
    "def initialize_inventory(products):\n",
    "    inventory = {}\n",
    "    for product in products:\n",
    "        valid_input = False\n",
    "        while not valid_input:\n",
    "            try:\n",
    "                quantity = int(input(f\"Enter the quantity of {product}s available: \"))\n",
    "                if quantity >= 0:\n",
    "                    inventory[product] = quantity\n",
    "                    valid_input = True\n",
    "                else:\n",
    "                    print(\"Quantity cannot be negative. Please enter a valid quantity.\")\n",
    "            except ValueError:\n",
    "                print(\"Invalid input. Please enter a valid quantity.\")\n",
    "    return inventory\n",
    "```\n",
    "\n",
    "Let's enhance your code by implementing error handling to handle invalid inputs.\n",
    "\n",
    "Follow the steps below to complete the exercise:\n",
    "\n",
    "2. Modify the `calculate_total_price` function to include error handling.\n",
    "   - If the user enters an invalid price (e.g., a negative value or a non-numeric value), display an error message and ask them to re-enter the price for that product.\n",
    "   - Use a try-except block to handle the error and continue prompting the user until a valid price is entered.\n",
    "\n",
    "3. Modify the `get_customer_orders` function to include error handling.\n",
    "   - If the user enters an invalid number of orders (e.g., a negative value or a non-numeric value), display an error message and ask them to re-enter the number of orders.\n",
    "   - If the user enters an invalid product name (e.g., a product name that is not in the inventory), or that doesn't have stock available, display an error message and ask them to re-enter the product name. *Hint: you will need to pass inventory as a parameter*\n",
    "   - Use a try-except block to handle the error and continue prompting the user until a valid product name is entered.\n",
    "\n",
    "4. Test your code by running the program and deliberately entering invalid quantities and product names. Make sure the error handling mechanism works as expected.\n"
   ]
  },
  {
   "cell_type": "markdown",
   "id": "66828c0a-6470-4f5c-ad65-946319067c24",
   "metadata": {},
   "source": [
    "#### 1. Initialize inventory"
   ]
  },
  {
   "cell_type": "code",
   "execution_count": 74,
   "id": "1d727b00-777e-4e41-8e4b-2b5d46b8893e",
   "metadata": {},
   "outputs": [],
   "source": [
    "def initialize_inventory(products):\n",
    "    inventory = {}\n",
    "    for product in products:\n",
    "        valid_input = False\n",
    "        while not valid_input:\n",
    "            try:\n",
    "                quantity = int(input(f\"Enter the quantity of {product}s available: \"))\n",
    "                if quantity >= 0:\n",
    "                    inventory[product] = quantity\n",
    "                    valid_input = True\n",
    "                else:\n",
    "                    print(\"Quantity cannot be negative. Please enter a valid quantity.\")\n",
    "            except ValueError:\n",
    "                print(\"Invalid input. Please enter a valid quantity.\")\n",
    "    return inventory"
   ]
  },
  {
   "cell_type": "code",
   "execution_count": 140,
   "id": "bb6b32c8-580f-415b-9bb3-b1c380f049bf",
   "metadata": {},
   "outputs": [
    {
     "name": "stdin",
     "output_type": "stream",
     "text": [
      "Enter the quantity of books available:  3\n",
      "Enter the quantity of magazines available:  4\n",
      "Enter the quantity of sudokus available:  5\n",
      "Enter the quantity of newspapers available:  6\n",
      "Enter the quantity of notebooks available:  7\n"
     ]
    }
   ],
   "source": [
    "products = [\"book\", \"magazine\", \"sudoku\", \"newspaper\", \"notebook\"]\n",
    "\n",
    "inventory = initialize_inventory(products)"
   ]
  },
  {
   "cell_type": "markdown",
   "id": "39453cb1-2f4f-4fd1-9c99-f4c06b214468",
   "metadata": {},
   "source": [
    "#### 2. Get customer orders"
   ]
  },
  {
   "cell_type": "code",
   "execution_count": 142,
   "id": "d9fbfae4-4ff2-4437-9ce6-7c4276e95b01",
   "metadata": {},
   "outputs": [],
   "source": [
    "def get_customer_orders(inventory):\n",
    "    \n",
    "    valid_input_orders = False\n",
    "    while not valid_input_orders:\n",
    "        try:\n",
    "            num_orders = int(input(\"How many orders would you like to place?\"))\n",
    "            if num_orders > 0:\n",
    "                print(\"Number of customer orders: \", num_orders)\n",
    "                valid_input_orders = True\n",
    "            else:\n",
    "                print(\"Quantity cannot be negative. Please enter a valid quantity.\")                \n",
    "        except ValueError:\n",
    "                print(\"Invalid input. Please enter a valid quantity.\")       \n",
    "\n",
    "    orders = {}\n",
    "    for i in range(num_orders):\n",
    "        valid_product_name = False\n",
    "        while not valid_product_name:\n",
    "            product_ordered = input(\"What would you like to order from the following list: book, magazine, sudoku, newspaper, notebook?\")\n",
    "            if product_ordered in inventory:\n",
    "                try: \n",
    "                    product_number = int(input(f\"How many items would you like to order from category {product_ordered}?\"))\n",
    "                    if product_number > 0:\n",
    "                        if inventory[product_ordered] >= product_number:\n",
    "                            orders[product_ordered] = product_number\n",
    "                            inventory[product_ordered] -= product_number\n",
    "                            valid_product_name = True\n",
    "                            print(f\"{product_number} of {product_ordered} ordered.\")\n",
    "                        else:\n",
    "                            print(f\"Insufficient items on stock. Products left: {inventory[product_ordered]}\")\n",
    "                    else:\n",
    "                        print(\"Quantity cannot be negative. Please enter a valid quantity.\")\n",
    "                except ValueError:\n",
    "                    print(\"Invalid input. Please enter a numeric quantity.\")\n",
    "            else:\n",
    "                print(\"Invalid input or product not in stock. Please choose a product from the list.\") \n",
    "\n",
    "    return orders, inventory"
   ]
  },
  {
   "cell_type": "code",
   "execution_count": 158,
   "id": "4a84a09f-fd1e-4628-9d4e-c919458c3aab",
   "metadata": {},
   "outputs": [
    {
     "name": "stdin",
     "output_type": "stream",
     "text": [
      "How many orders would you like to place? 2\n"
     ]
    },
    {
     "name": "stdout",
     "output_type": "stream",
     "text": [
      "Number of customer orders:  2\n"
     ]
    },
    {
     "name": "stdin",
     "output_type": "stream",
     "text": [
      "What would you like to order from the following list: book, magazine, sudoku, newspaper, notebook? book\n",
      "How many items would you like to order from category book? 2\n"
     ]
    },
    {
     "name": "stdout",
     "output_type": "stream",
     "text": [
      "Insufficient items on stock. Products left: 1\n"
     ]
    },
    {
     "name": "stdin",
     "output_type": "stream",
     "text": [
      "What would you like to order from the following list: book, magazine, sudoku, newspaper, notebook? book\n",
      "How many items would you like to order from category book? 1\n"
     ]
    },
    {
     "name": "stdout",
     "output_type": "stream",
     "text": [
      "1 of book ordered.\n"
     ]
    },
    {
     "name": "stdin",
     "output_type": "stream",
     "text": [
      "What would you like to order from the following list: book, magazine, sudoku, newspaper, notebook? magazine\n",
      "How many items would you like to order from category magazine? 3\n"
     ]
    },
    {
     "name": "stdout",
     "output_type": "stream",
     "text": [
      "3 of magazine ordered.\n"
     ]
    }
   ],
   "source": [
    "orders, updated_inventory = get_customer_orders(inventory)\n",
    "\n",
    "#print(f\"Purchase completed! Items ordered: {orders}\")\n",
    "#print(f\"New inventory: {updated_inventory}\")"
   ]
  },
  {
   "cell_type": "code",
   "execution_count": 162,
   "id": "b36e34e0-68a9-4370-a258-3195ab709f78",
   "metadata": {},
   "outputs": [
    {
     "name": "stdout",
     "output_type": "stream",
     "text": [
      "Total customer orders: {'book': 1, 'magazine': 3}\n"
     ]
    }
   ],
   "source": [
    "print(f\"Total customer orders: {orders}\")"
   ]
  },
  {
   "cell_type": "markdown",
   "id": "37ab1e0e-e4cf-4fd4-a201-738e7b69c366",
   "metadata": {},
   "source": [
    "#### Calculate total price of customer orders"
   ]
  },
  {
   "cell_type": "code",
   "execution_count": 154,
   "id": "38b297d0-b63a-4393-89b0-0d2f1cd35a3f",
   "metadata": {},
   "outputs": [],
   "source": [
    "def calculate_total_price(orders):\n",
    "    total_price = 0.0  # Initialize total_price\n",
    "\n",
    "    for item, quantity in orders.items():  # Iterate over items and their quantities\n",
    "        valid_input = False\n",
    "        while not valid_input:  # Keep asking until a valid input is given\n",
    "            price_item_str = input(f\"Price of {item} in EUR: \")\n",
    "            try:\n",
    "                price_item = float(price_item_str)  # Convert input string to float\n",
    "                if price_item > 0:\n",
    "                    total_price += price_item * quantity  # Calculate total price\n",
    "                    valid_input = True  # Exit the loop on valid input\n",
    "                else:\n",
    "                    print(\"Invalid input. Price must be a positive value.\")\n",
    "            except ValueError:  # Catch conversion errors\n",
    "                print(\"Invalid input. Please enter a valid price.\")\n",
    "\n",
    "    print(f\"Total price in EUR: {total_price:.2f}\")\n",
    "    return total_price"
   ]
  },
  {
   "cell_type": "code",
   "execution_count": 156,
   "id": "46d08bbf-1d81-4035-a149-abd4d6845d25",
   "metadata": {},
   "outputs": [
    {
     "name": "stdin",
     "output_type": "stream",
     "text": [
      "Price of book in EUR:  2.5\n",
      "Price of newspaper in EUR:  4.5\n"
     ]
    },
    {
     "name": "stdout",
     "output_type": "stream",
     "text": [
      "Total price in EUR: 18.50\n"
     ]
    },
    {
     "data": {
      "text/plain": [
       "18.5"
      ]
     },
     "execution_count": 156,
     "metadata": {},
     "output_type": "execute_result"
    }
   ],
   "source": [
    "calculate_total_price(orders)"
   ]
  }
 ],
 "metadata": {
  "kernelspec": {
   "display_name": "Python 3 (ipykernel)",
   "language": "python",
   "name": "python3"
  },
  "language_info": {
   "codemirror_mode": {
    "name": "ipython",
    "version": 3
   },
   "file_extension": ".py",
   "mimetype": "text/x-python",
   "name": "python",
   "nbconvert_exporter": "python",
   "pygments_lexer": "ipython3",
   "version": "3.12.3"
  }
 },
 "nbformat": 4,
 "nbformat_minor": 5
}
